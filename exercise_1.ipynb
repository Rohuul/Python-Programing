{
  "nbformat": 4,
  "nbformat_minor": 0,
  "metadata": {
    "colab": {
      "provenance": [],
      "authorship_tag": "ABX9TyOLrkVYLVxKjUB8BEyGvezq",
      "include_colab_link": true
    },
    "kernelspec": {
      "name": "python3",
      "display_name": "Python 3"
    },
    "language_info": {
      "name": "python"
    }
  },
  "cells": [
    {
      "cell_type": "markdown",
      "metadata": {
        "id": "view-in-github",
        "colab_type": "text"
      },
      "source": [
        "<a href=\"https://colab.research.google.com/github/Rohuul/Python-Programing/blob/main/exercise_1.ipynb\" target=\"_parent\"><img src=\"https://colab.research.google.com/assets/colab-badge.svg\" alt=\"Open In Colab\"/></a>"
      ]
    },
    {
      "cell_type": "code",
      "execution_count": null,
      "metadata": {
        "colab": {
          "base_uri": "https://localhost:8080/"
        },
        "id": "uHFO--gYPo85",
        "outputId": "5594c65e-7fd4-461d-8151-ef309de47584"
      },
      "outputs": [
        {
          "output_type": "stream",
          "name": "stdout",
          "text": [
            "Enter the Number1= 4\n",
            "Enter the Number2= 4\n",
            "4 and 4 is equal\n"
          ]
        }
      ],
      "source": [
        "num1 = int(input(\"Enter the Number1= \"))\n",
        "num2 = int(input(\"Enter the Number2= \"))\n",
        "\n",
        "if num1==num2:\n",
        "  print(f\"{num1} and {num2} is equal\")\n",
        "else:\n",
        "  print(f\"{num1} and {num2} in Not equal\")\n"
      ]
    }
  ]
}