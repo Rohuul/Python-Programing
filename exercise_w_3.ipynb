{
  "nbformat": 4,
  "nbformat_minor": 0,
  "metadata": {
    "colab": {
      "provenance": [],
      "authorship_tag": "ABX9TyNo8RgyuMjJyy5uKrWnc8Fs",
      "include_colab_link": true
    },
    "kernelspec": {
      "name": "python3",
      "display_name": "Python 3"
    },
    "language_info": {
      "name": "python"
    }
  },
  "cells": [
    {
      "cell_type": "markdown",
      "metadata": {
        "id": "view-in-github",
        "colab_type": "text"
      },
      "source": [
        "<a href=\"https://colab.research.google.com/github/Rohuul/Python-Programing/blob/main/exercise_w_3.ipynb\" target=\"_parent\"><img src=\"https://colab.research.google.com/assets/colab-badge.svg\" alt=\"Open In Colab\"/></a>"
      ]
    },
    {
      "cell_type": "markdown",
      "source": [
        "1) Write a Python Program to get name of user and Display user name in uppercase."
      ],
      "metadata": {
        "id": "_368zqSB_3Ke"
      }
    },
    {
      "cell_type": "code",
      "execution_count": null,
      "metadata": {
        "colab": {
          "base_uri": "https://localhost:8080/"
        },
        "id": "rV2u-e-L_Wzi",
        "outputId": "29092c5e-6726-44f8-9790-3dd98a32b9f8"
      },
      "outputs": [
        {
          "output_type": "stream",
          "name": "stdout",
          "text": [
            "Enter Your Name: Rohul\n",
            "ROHUL\n"
          ]
        }
      ],
      "source": [
        "txt = input(\"Enter Your Name: \")\n",
        "x = txt.upper()\n",
        "print(x)"
      ]
    },
    {
      "cell_type": "markdown",
      "source": [
        "2) Write a Python Program to get age of user and convert into seconds."
      ],
      "metadata": {
        "id": "3XJftIIlAO4l"
      }
    },
    {
      "cell_type": "code",
      "source": [
        "age = int(input(\"Enter your age: \"))\n",
        "age_in_second = age*365*24*60*60\n",
        "\n",
        "print(\"Your age in second: \" ,age_in_second)"
      ],
      "metadata": {
        "colab": {
          "base_uri": "https://localhost:8080/"
        },
        "id": "MV1HoLy8ARv1",
        "outputId": "1b22dc90-6321-4c24-c49e-26c005543601"
      },
      "execution_count": null,
      "outputs": [
        {
          "output_type": "stream",
          "name": "stdout",
          "text": [
            "Enter your age: 24\n",
            "Your age in second:  756864000\n"
          ]
        }
      ]
    },
    {
      "cell_type": "markdown",
      "source": [
        "3) Write a Python Program to get Three Numbers from User to Increase One Value to Every Number."
      ],
      "metadata": {
        "id": "UTrIJ6P3BHwl"
      }
    },
    {
      "cell_type": "code",
      "source": [
        "num1 = int(input(\"Enter 1st Number: \"))\n",
        "num2 = int(input(\"Enter 2nd Number: \"))\n",
        "num3 = int(input(\"Enter 3rd Number: \"))\n",
        "\n",
        "num1 += 1\n",
        "num2 += 1\n",
        "num3 += 1\n",
        "\n",
        "print(\"After Increasing,\")\n",
        "print(\"Num1: \", num1)\n",
        "print(\"Num2: \", num2)\n",
        "print(\"Num3: \", num3)\n"
      ],
      "metadata": {
        "colab": {
          "base_uri": "https://localhost:8080/"
        },
        "id": "9wCWORWFBNK1",
        "outputId": "f907b762-cd17-4f3d-dc9b-52817cffcda2"
      },
      "execution_count": null,
      "outputs": [
        {
          "output_type": "stream",
          "name": "stdout",
          "text": [
            "Enter 1st Number: 10\n",
            "Enter 2nd Number: 20\n",
            "Enter 3rd Number: 30\n",
            "After Increasing,\n",
            "Num1:  11\n",
            "Num2:  21\n",
            "Num3:  31\n"
          ]
        }
      ]
    },
    {
      "cell_type": "markdown",
      "source": [
        "4) Write a Python Program to get a Number from User to Find Square of that Number and then Display Result."
      ],
      "metadata": {
        "id": "c89A8CYMEvAs"
      }
    },
    {
      "cell_type": "code",
      "source": [
        "num = float(input(\"Enter a Number: \"))\n",
        "square = num**2\n",
        "print(\"Square of Your num is: \",square)"
      ],
      "metadata": {
        "colab": {
          "base_uri": "https://localhost:8080/"
        },
        "id": "1Znrbw8BE05b",
        "outputId": "a92fe56a-893e-4286-d771-c931d8c5546e"
      },
      "execution_count": null,
      "outputs": [
        {
          "output_type": "stream",
          "name": "stdout",
          "text": [
            "Enter a Number: 10\n",
            "Square of Your num is:  100.0\n"
          ]
        }
      ]
    },
    {
      "cell_type": "markdown",
      "source": [
        "5) Write a Python Program to get 3 Numbers from User, Multiply 1st and 3rd Numbesr and then Add 2nd Number to Resultant."
      ],
      "metadata": {
        "id": "MZ1IaGiaFYnE"
      }
    },
    {
      "cell_type": "code",
      "source": [
        "num1 = int(input(\"Enter 1st Number: \"))\n",
        "num2 = int(input(\"Enter 2nd Number: \"))\n",
        "num3 = int(input(\"Enter 3rd Number: \"))\n",
        "\n",
        "mul = num1*num3\n",
        "sum = mul+num2\n",
        "print(\"Results: \",sum)"
      ],
      "metadata": {
        "colab": {
          "base_uri": "https://localhost:8080/"
        },
        "id": "VKjTLSRaFmDr",
        "outputId": "061f322e-1a13-4ffa-c52d-89c825fc55f5"
      },
      "execution_count": null,
      "outputs": [
        {
          "output_type": "stream",
          "name": "stdout",
          "text": [
            "Enter 1st Number: 10\n",
            "Enter 2nd Number: 5\n",
            "Enter 3rd Number: 7\n",
            "Results:  75\n"
          ]
        }
      ]
    }
  ]
}