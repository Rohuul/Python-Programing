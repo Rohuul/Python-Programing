{
  "nbformat": 4,
  "nbformat_minor": 0,
  "metadata": {
    "colab": {
      "provenance": [],
      "authorship_tag": "ABX9TyM7UCygBkwU+Cnl9ZgIFLH3",
      "include_colab_link": true
    },
    "kernelspec": {
      "name": "python3",
      "display_name": "Python 3"
    },
    "language_info": {
      "name": "python"
    }
  },
  "cells": [
    {
      "cell_type": "markdown",
      "metadata": {
        "id": "view-in-github",
        "colab_type": "text"
      },
      "source": [
        "<a href=\"https://colab.research.google.com/github/Rohuul/Python-Programing/blob/main/Problem_1.ipynb\" target=\"_parent\"><img src=\"https://colab.research.google.com/assets/colab-badge.svg\" alt=\"Open In Colab\"/></a>"
      ]
    },
    {
      "cell_type": "code",
      "execution_count": null,
      "metadata": {
        "colab": {
          "base_uri": "https://localhost:8080/"
        },
        "id": "LUv7aCjY_3Oy",
        "outputId": "787b3556-3f81-4c23-a224-0362e3bfefcd"
      },
      "outputs": [
        {
          "output_type": "stream",
          "name": "stdout",
          "text": [
            "Enter Name: Md. Rohul Amin\n",
            "Md. Rohul Amin\n"
          ]
        }
      ],
      "source": [
        "Name = input(\"Enter Name: \")\n",
        "print(Name)"
      ]
    },
    {
      "cell_type": "code",
      "source": [
        "Name = input(\"What's your Name: \")\n",
        "Age = int(input(\"How old are You: \"))\n",
        "print(Name,Age)"
      ],
      "metadata": {
        "colab": {
          "base_uri": "https://localhost:8080/"
        },
        "id": "-HEOe3hbDF4C",
        "outputId": "bdcf14ba-2b13-4c56-8ce5-e776bf1907cf"
      },
      "execution_count": null,
      "outputs": [
        {
          "output_type": "stream",
          "name": "stdout",
          "text": [
            "What's your Name: Md. Rohul Amin\n",
            "How old are You: 24\n",
            "Md. Rohul Amin 24\n"
          ]
        }
      ]
    },
    {
      "cell_type": "code",
      "source": [
        "x = int(input(\"Number1: \"))\n",
        "y = int(input(\"Number2: \"))\n",
        "sum = (x+y)\n",
        "print(sum)"
      ],
      "metadata": {
        "id": "wWNMIjOmDXrb",
        "outputId": "56227082-df96-4bcf-f80b-957f5b54a063",
        "colab": {
          "base_uri": "https://localhost:8080/"
        }
      },
      "execution_count": null,
      "outputs": [
        {
          "output_type": "stream",
          "name": "stdout",
          "text": [
            "Number1: 6\n",
            "Number2: 7\n",
            "13\n"
          ]
        }
      ]
    }
  ]
}