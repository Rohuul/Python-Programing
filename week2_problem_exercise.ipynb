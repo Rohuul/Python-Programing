{
  "nbformat": 4,
  "nbformat_minor": 0,
  "metadata": {
    "colab": {
      "provenance": [],
      "authorship_tag": "ABX9TyNKRLiCLHdvVAXAk093Tr4j",
      "include_colab_link": true
    },
    "kernelspec": {
      "name": "python3",
      "display_name": "Python 3"
    },
    "language_info": {
      "name": "python"
    }
  },
  "cells": [
    {
      "cell_type": "markdown",
      "metadata": {
        "id": "view-in-github",
        "colab_type": "text"
      },
      "source": [
        "<a href=\"https://colab.research.google.com/github/Rohuul/Python-Programing/blob/main/week2_problem_exercise.ipynb\" target=\"_parent\"><img src=\"https://colab.research.google.com/assets/colab-badge.svg\" alt=\"Open In Colab\"/></a>"
      ]
    },
    {
      "cell_type": "code",
      "execution_count": null,
      "metadata": {
        "colab": {
          "base_uri": "https://localhost:8080/"
        },
        "id": "NDi52SDmKuuc",
        "outputId": "9a49ffc1-d9cd-4cfe-ef36-ca6f5337f231"
      },
      "outputs": [
        {
          "output_type": "stream",
          "name": "stdout",
          "text": [
            "5\n"
          ]
        }
      ],
      "source": [
        "a = 10\n",
        "b = -5\n",
        "c = a + b\n",
        "print(c)"
      ]
    },
    {
      "cell_type": "code",
      "source": [
        "pi= 3.1416\n",
        "radius= 5\n",
        "area= pi* radius*2\n",
        "print(area)"
      ],
      "metadata": {
        "colab": {
          "base_uri": "https://localhost:8080/"
        },
        "id": "n15tSLulUw2G",
        "outputId": "0c2d6036-8777-486d-901a-2e1f5dcf2164"
      },
      "execution_count": null,
      "outputs": [
        {
          "output_type": "stream",
          "name": "stdout",
          "text": [
            "31.416\n"
          ]
        }
      ]
    },
    {
      "cell_type": "code",
      "source": [
        "name= \"Rohul\"\n",
        "print (f\"Hello {name}\")"
      ],
      "metadata": {
        "colab": {
          "base_uri": "https://localhost:8080/"
        },
        "id": "pnhIOnMoVeqY",
        "outputId": "a16c0f55-db1c-43db-e29e-702fba255e63"
      },
      "execution_count": null,
      "outputs": [
        {
          "output_type": "stream",
          "name": "stdout",
          "text": [
            "Hello Rohul\n"
          ]
        }
      ]
    },
    {
      "cell_type": "code",
      "source": [
        "result = None\n",
        "if result is None:\n",
        "  print(\"No result available.\")"
      ],
      "metadata": {
        "colab": {
          "base_uri": "https://localhost:8080/"
        },
        "id": "aMBRYZjdWIB6",
        "outputId": "a75ba09b-4317-4df7-92b1-ee9060083b66"
      },
      "execution_count": null,
      "outputs": [
        {
          "output_type": "stream",
          "name": "stdout",
          "text": [
            "No result available.\n"
          ]
        }
      ]
    },
    {
      "cell_type": "code",
      "source": [
        "is_valid = True\n",
        "if is_valid:\n",
        "  print(\"The data is valid.\")"
      ],
      "metadata": {
        "colab": {
          "base_uri": "https://localhost:8080/"
        },
        "id": "CokZI6-yWi1q",
        "outputId": "d9fe7aa1-b3d9-4aa6-9231-e1ade697f648"
      },
      "execution_count": null,
      "outputs": [
        {
          "output_type": "stream",
          "name": "stdout",
          "text": [
            "The data is valid.\n"
          ]
        }
      ]
    },
    {
      "cell_type": "code",
      "source": [
        "text = \"Python Programming\"\n",
        "first_letter = text[0]\n",
        "substring = text[7:18]\n",
        "\n",
        "print(first_letter)\n",
        "print(substring )"
      ],
      "metadata": {
        "colab": {
          "base_uri": "https://localhost:8080/"
        },
        "id": "JyeDYdJdWp0S",
        "outputId": "00cb493e-792c-4cf9-c85b-2e3fdf04d355"
      },
      "execution_count": null,
      "outputs": [
        {
          "output_type": "stream",
          "name": "stdout",
          "text": [
            "P\n",
            "Programming\n"
          ]
        }
      ]
    },
    {
      "cell_type": "code",
      "source": [
        "from os import replace\n",
        "txt = \"Hello world\"\n",
        "upper_text = txt.upper()\n",
        "replace_text= txt.replace(\"world\",\"python\")\n",
        "\n",
        "print(txt)\n",
        "print(upper_text)\n",
        "print(replace_text)\n"
      ],
      "metadata": {
        "colab": {
          "base_uri": "https://localhost:8080/"
        },
        "id": "YMMQgTM9XkF4",
        "outputId": "184bc57b-9f2c-4fcd-8a20-a149bb391dad"
      },
      "execution_count": null,
      "outputs": [
        {
          "output_type": "stream",
          "name": "stdout",
          "text": [
            "Hello world\n",
            "HELLO WORLD\n",
            "Hello python\n"
          ]
        }
      ]
    },
    {
      "cell_type": "code",
      "source": [
        "fruits= [\"Apple\",\"Banana\",\"cherry\"]\n",
        "first_fruits= fruits[0]\n",
        "\n",
        "print(first_fruits)\n",
        "\n",
        "fruits.append(\"Orange\")\n",
        "fruits.remove(\"Banana\")\n",
        "print(fruits)"
      ],
      "metadata": {
        "colab": {
          "base_uri": "https://localhost:8080/"
        },
        "id": "WpSkC-JMYwCu",
        "outputId": "1911395e-6bb1-464c-e13a-781b46f5652b"
      },
      "execution_count": null,
      "outputs": [
        {
          "output_type": "stream",
          "name": "stdout",
          "text": [
            "Apple\n",
            "['Apple', 'cherry', 'Orange']\n"
          ]
        }
      ]
    },
    {
      "cell_type": "code",
      "source": [
        "squares = [x**2 for x in range(10)]\n",
        "print(squares)"
      ],
      "metadata": {
        "colab": {
          "base_uri": "https://localhost:8080/"
        },
        "id": "gOUgntRqfEnw",
        "outputId": "5f907f42-5cfa-4109-f631-1679ad3262b1"
      },
      "execution_count": null,
      "outputs": [
        {
          "output_type": "stream",
          "name": "stdout",
          "text": [
            "[0, 1, 4, 9, 16, 25, 36, 49, 64, 81]\n"
          ]
        }
      ]
    },
    {
      "cell_type": "code",
      "source": [
        "Cubes = [x**3 for x in range (5)]\n",
        "print(Cubes)"
      ],
      "metadata": {
        "colab": {
          "base_uri": "https://localhost:8080/"
        },
        "id": "G9y03UGXfdpu",
        "outputId": "ba38ac76-d533-4437-d99b-7532cc5169b7"
      },
      "execution_count": null,
      "outputs": [
        {
          "output_type": "stream",
          "name": "stdout",
          "text": [
            "[0, 1, 8, 27, 64]\n"
          ]
        }
      ]
    },
    {
      "cell_type": "markdown",
      "source": [
        "1. List Manipulation: Create a list of your favorite five movies. Write a program to:\n",
        "• Print the second movie in the list.\n",
        "• Add a new movie to the end of the list.\n",
        "• Remove the first movie from the list and print the updated list."
      ],
      "metadata": {
        "id": "xWZH5DG-hIbQ"
      }
    },
    {
      "cell_type": "code",
      "source": [
        "lst = [\"3 Idiots\", \"pk\", \"veer zara\"]\n",
        "Second_lst = lst[1]\n",
        "print(Second_lst)\n",
        "\n",
        "lst.append(\"Kaal Ho Na Ho\")\n",
        "print(lst)\n",
        "\n",
        "lst.remove(\"3 Idiots\")\n",
        "print(lst)"
      ],
      "metadata": {
        "colab": {
          "base_uri": "https://localhost:8080/"
        },
        "id": "MyuIoUl1hGye",
        "outputId": "b8cd0bac-255c-4c63-f3ff-e54cacb2d883"
      },
      "execution_count": null,
      "outputs": [
        {
          "output_type": "stream",
          "name": "stdout",
          "text": [
            "pk\n",
            "['3 Idiots', 'pk', 'veer zara', 'Kaal Ho Na Ho']\n",
            "['pk', 'veer zara', 'Kaal Ho Na Ho']\n"
          ]
        }
      ]
    },
    {
      "cell_type": "markdown",
      "source": [
        "2. Dictionary Operations: Write a program to create a dictionary that stores information about a book (title,\n",
        "author, year, and genre). Then:\n",
        "• Print the title of the book.\n",
        "• Update the year to the current year and print the updated dictionary."
      ],
      "metadata": {
        "id": "j5paLQxri-Zm"
      }
    },
    {
      "cell_type": "code",
      "source": [
        "book = {\n",
        "    \"title\" : \"Python Programing\",\n",
        "    \"author\" : \"Rohul Amin\",\n",
        "    \"year\" : 2020,\n",
        "    \"genre\" : \"Educational\"\n",
        "\n",
        "}\n",
        "\n",
        "print(\"Title of Book: \", book[\"title\"])\n",
        "\n"
      ],
      "metadata": {
        "colab": {
          "base_uri": "https://localhost:8080/"
        },
        "id": "8nuoFFBmi5IZ",
        "outputId": "3f643d34-d90b-44ff-d164-f708133772a1"
      },
      "execution_count": null,
      "outputs": [
        {
          "output_type": "stream",
          "name": "stdout",
          "text": [
            "Title of Book:  Python Programing\n"
          ]
        }
      ]
    },
    {
      "cell_type": "markdown",
      "source": [
        "3. Tuple Unpacking: Create a tuple with three different data types (e.g., string, integer, float). Write a program\n",
        "that:\n",
        "• Unpacks the tuple into three variables and prints each variable separately."
      ],
      "metadata": {
        "id": "QegDvXQkoL7a"
      }
    },
    {
      "cell_type": "code",
      "source": [],
      "metadata": {
        "id": "iECDdTXAoKct"
      },
      "execution_count": null,
      "outputs": []
    }
  ]
}