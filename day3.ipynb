{
  "nbformat": 4,
  "nbformat_minor": 0,
  "metadata": {
    "colab": {
      "provenance": [],
      "authorship_tag": "ABX9TyPRjcgeA+YINQLZoglY0s+j",
      "include_colab_link": true
    },
    "kernelspec": {
      "name": "python3",
      "display_name": "Python 3"
    },
    "language_info": {
      "name": "python"
    }
  },
  "cells": [
    {
      "cell_type": "markdown",
      "metadata": {
        "id": "view-in-github",
        "colab_type": "text"
      },
      "source": [
        "<a href=\"https://colab.research.google.com/github/Rohuul/Python-Programing/blob/main/day3.ipynb\" target=\"_parent\"><img src=\"https://colab.research.google.com/assets/colab-badge.svg\" alt=\"Open In Colab\"/></a>"
      ]
    },
    {
      "cell_type": "code",
      "execution_count": null,
      "metadata": {
        "colab": {
          "base_uri": "https://localhost:8080/"
        },
        "id": "D6nJH-wBmRHS",
        "outputId": "ff2787cd-6778-4c6d-9644-3614d00d0eb9"
      },
      "outputs": [
        {
          "output_type": "stream",
          "name": "stdout",
          "text": [
            "Enter first Name: Rohul\n",
            "Enter last name: Amin\n",
            "Rohul Amin\n"
          ]
        }
      ],
      "source": [
        "num1 = input(\"Enter first Name: \")\n",
        "num2 = input(\"Enter last name: \")\n",
        "fullName = num1 + \" \" + num2\n",
        "print(fullName)"
      ]
    },
    {
      "cell_type": "markdown",
      "source": [],
      "metadata": {
        "id": "YKfQ7dZWm_-E"
      }
    },
    {
      "cell_type": "code",
      "source": [
        "num1 = int(input(\"Enter a num: \"))\n",
        "num2 = int(input(\"Enter another num: \"))\n",
        "sum = num1 + num2\n",
        "sub = num1 - num2\n",
        "mul = num1 * num2\n",
        "div = num1 / num2\n",
        "\n",
        "print(f\"Sum: {sum}\")\n",
        "print(f\"sub: {sub}\")\n",
        "print(f\"mul: {sub}\")\n",
        "print(f\"div: {div}\")\n"
      ],
      "metadata": {
        "colab": {
          "base_uri": "https://localhost:8080/"
        },
        "id": "C9nX7AOxm1jF",
        "outputId": "9e6ef115-3cb3-48cf-d040-20012f4a15d5"
      },
      "execution_count": null,
      "outputs": [
        {
          "output_type": "stream",
          "name": "stdout",
          "text": [
            "Enter a num: 8\n",
            "Enter another num: 5\n",
            "Sum: 13\n",
            "sub: 3\n",
            "mul: 3\n",
            "div: 1.6\n"
          ]
        }
      ]
    },
    {
      "cell_type": "markdown",
      "source": [
        "Area of Rectangle"
      ],
      "metadata": {
        "id": "UxchDYK5odd8"
      }
    },
    {
      "cell_type": "code",
      "source": [
        "length = input(\"Enter the length: \")\n",
        "width = input(\"Enter the width: \")\n",
        "\n",
        "area = int(length) * int(width)\n",
        "print(\"The area of Triangle is: \", area)"
      ],
      "metadata": {
        "colab": {
          "base_uri": "https://localhost:8080/"
        },
        "id": "7rEXzbuPoj57",
        "outputId": "e7f6096f-fe64-4b75-dd5a-086a094ef6b8"
      },
      "execution_count": null,
      "outputs": [
        {
          "output_type": "stream",
          "name": "stdout",
          "text": [
            "Enter the length: 5\n",
            "Enter the width: 6\n",
            "The area of Triangle is:  30\n"
          ]
        }
      ]
    },
    {
      "cell_type": "code",
      "source": [
        "string = str(input(\"Enter a string: \"))\n",
        "string_length = len(string)\n",
        "\n",
        "print(\"The length of the string is:\", string_length)\n"
      ],
      "metadata": {
        "colab": {
          "base_uri": "https://localhost:8080/"
        },
        "id": "tNH2Nc0OpLJ-",
        "outputId": "3211d837-5943-41a1-b236-dbc6e0390ffb"
      },
      "execution_count": null,
      "outputs": [
        {
          "output_type": "stream",
          "name": "stdout",
          "text": [
            "Enter a string: Rohul Amin\n",
            "The length of the string is: 10\n"
          ]
        }
      ]
    }
  ]
}