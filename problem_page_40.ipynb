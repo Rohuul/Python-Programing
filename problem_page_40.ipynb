{
  "nbformat": 4,
  "nbformat_minor": 0,
  "metadata": {
    "colab": {
      "provenance": [],
      "authorship_tag": "ABX9TyMp1QjRLpLvbGZb+6VJWznH",
      "include_colab_link": true
    },
    "kernelspec": {
      "name": "python3",
      "display_name": "Python 3"
    },
    "language_info": {
      "name": "python"
    }
  },
  "cells": [
    {
      "cell_type": "markdown",
      "metadata": {
        "id": "view-in-github",
        "colab_type": "text"
      },
      "source": [
        "<a href=\"https://colab.research.google.com/github/Rohuul/Python-Programing/blob/main/problem_page_40.ipynb\" target=\"_parent\"><img src=\"https://colab.research.google.com/assets/colab-badge.svg\" alt=\"Open In Colab\"/></a>"
      ]
    },
    {
      "cell_type": "markdown",
      "source": [
        "1) Write a Python Program to get a Number from User to Display Its Next and\n",
        "Previous Numbers. If User Enter ‘4’, System Should Display 5 as Next Number\n",
        "and 3 as Pervious Number."
      ],
      "metadata": {
        "id": "R55XhdCfSOWM"
      }
    },
    {
      "cell_type": "code",
      "execution_count": null,
      "metadata": {
        "id": "mAF2ZPqX8neD",
        "colab": {
          "base_uri": "https://localhost:8080/"
        },
        "outputId": "56d7eb73-7b9c-4770-c3c9-a2414c8ba484"
      },
      "outputs": [
        {
          "output_type": "stream",
          "name": "stdout",
          "text": [
            "Enter a Number: 10\n",
            "Next number:  11.0\n",
            "Previous Number:  9.0\n"
          ]
        }
      ],
      "source": [
        "num = float(input(\"Enter a Number: \"))\n",
        "print(\"Next number: \", num+1)\n",
        "print(\"Previous Number: \", num-1)"
      ]
    }
  ]
}