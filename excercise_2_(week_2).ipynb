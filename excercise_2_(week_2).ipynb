{
  "nbformat": 4,
  "nbformat_minor": 0,
  "metadata": {
    "colab": {
      "provenance": [],
      "authorship_tag": "ABX9TyM2pQ29NGdd98LK5oI83dMq",
      "include_colab_link": true
    },
    "kernelspec": {
      "name": "python3",
      "display_name": "Python 3"
    },
    "language_info": {
      "name": "python"
    }
  },
  "cells": [
    {
      "cell_type": "markdown",
      "metadata": {
        "id": "view-in-github",
        "colab_type": "text"
      },
      "source": [
        "<a href=\"https://colab.research.google.com/github/Rohuul/Python-Programing/blob/main/excercise_2_(week_2).ipynb\" target=\"_parent\"><img src=\"https://colab.research.google.com/assets/colab-badge.svg\" alt=\"Open In Colab\"/></a>"
      ]
    },
    {
      "cell_type": "markdown",
      "source": [
        "Problem 1: List Manipulation: Create a list of your favorite five movies. Write a program to:\n",
        "• Print the second movie in the list.\n",
        "• Add a new movie to the end of the list.\n",
        "• Remove the first movie from the list and print the updated list."
      ],
      "metadata": {
        "id": "eQR2AqC2ieQ_"
      }
    },
    {
      "cell_type": "code",
      "execution_count": null,
      "metadata": {
        "colab": {
          "base_uri": "https://localhost:8080/"
        },
        "id": "WG8pxug9Zv7t",
        "outputId": "0a7e7165-70c0-4cca-a196-bf25b37d993f"
      },
      "outputs": [
        {
          "output_type": "stream",
          "name": "stdout",
          "text": [
            "pk\n",
            "['3 Idiots', 'pk', 'veer zara', 'Kaal Ho Na Ho']\n",
            "['pk', 'veer zara', 'Kaal Ho Na Ho']\n"
          ]
        }
      ],
      "source": [
        "lst = [\"3 Idiots\", \"pk\", \"veer zara\"]\n",
        "Second_lst = lst[1]\n",
        "print(Second_lst)\n",
        "\n",
        "lst.append(\"Kaal Ho Na Ho\")\n",
        "print(lst)\n",
        "\n",
        "lst.remove(\"3 Idiots\")\n",
        "print(lst)"
      ]
    },
    {
      "cell_type": "markdown",
      "source": [
        "2. Dictionary Operations: Write a program to create a dictionary that stores information about a book (title,\n",
        "author, year, and genre). Then:\n",
        "• Print the title of the book.\n",
        "• Update the year to the current year and print the updated dictionary."
      ],
      "metadata": {
        "id": "RP8CYeRBjxTl"
      }
    },
    {
      "cell_type": "code",
      "source": [
        "book = {\n",
        "    \"title\": \"My Name is Khan\",\n",
        "    \"author\": \"Rohul Amin\",\n",
        "    \"year\": 2002,\n",
        "    \"genre\": \"Tragedy\"\n",
        "}\n",
        "\n",
        "print(\"Title:\", book[\"title\"])\n",
        "\n",
        "book[\"year\"] = 2024\n",
        "print(\"Updated Book Information:\", book)\n"
      ],
      "metadata": {
        "colab": {
          "base_uri": "https://localhost:8080/"
        },
        "id": "n8yU9lF8jyDk",
        "outputId": "91c7f902-1d5f-48bb-e4b2-a81005d6ac03"
      },
      "execution_count": null,
      "outputs": [
        {
          "output_type": "stream",
          "name": "stdout",
          "text": [
            "Title: My Name is Khan\n",
            "Updated Book Information: {'title': 'My Name is Khan', 'author': 'Rohul Amin', 'year': 2024, 'genre': 'Tragedy'}\n"
          ]
        }
      ]
    },
    {
      "cell_type": "markdown",
      "source": [
        "3. Tuple Unpacking: Create a tuple with three different data types (e.g., string, integer, float). Write a program\n",
        "that:\n",
        "• Unpacks the tuple into three variables and prints each variable separately."
      ],
      "metadata": {
        "id": "dZW6kj6hlesq"
      }
    },
    {
      "cell_type": "code",
      "source": [
        "data = (\"Hello\", 42, 3.14)\n",
        "\n",
        "a, b, c = data\n",
        "print(a)\n",
        "print(b)\n",
        "print(c)\n"
      ],
      "metadata": {
        "colab": {
          "base_uri": "https://localhost:8080/"
        },
        "id": "fWjGAEHylWJM",
        "outputId": "82547d9e-ca6a-4792-c64d-f0298a334056"
      },
      "execution_count": null,
      "outputs": [
        {
          "output_type": "stream",
          "name": "stdout",
          "text": [
            "Hello\n",
            "42\n",
            "3.14\n"
          ]
        }
      ]
    },
    {
      "cell_type": "markdown",
      "source": [
        "4. Set Operations: Create two sets: set A = {1, 2, 3, 4, 5} and set B = {4, 5, 6, 7, 8}. Write a program to:\n",
        "• Find and print the symmetric difference of the two sets."
      ],
      "metadata": {
        "id": "pArAIBYMmVF5"
      }
    },
    {
      "cell_type": "code",
      "source": [
        "A = {1, 2, 3, 4, 5}\n",
        "B = {4, 5, 6, 7, 8}\n",
        "\n",
        "result = A.symmetric_difference(B)\n",
        "print(result)\n"
      ],
      "metadata": {
        "colab": {
          "base_uri": "https://localhost:8080/"
        },
        "id": "-PVPjCE_mcHO",
        "outputId": "9f747626-f8ee-474b-9649-fe82dbcae50a"
      },
      "execution_count": null,
      "outputs": [
        {
          "output_type": "stream",
          "name": "stdout",
          "text": [
            "{1, 2, 3, 6, 7, 8}\n"
          ]
        }
      ]
    },
    {
      "cell_type": "markdown",
      "source": [
        "5. String Formatting: Write a program that takes the user’s first name and last name as input and prints a message in the format: “Hello, [First Name] [Last Name]! Welcome to Python programming.”"
      ],
      "metadata": {
        "id": "yqQcEoP9nXPB"
      }
    },
    {
      "cell_type": "code",
      "source": [
        "first_name = input(\"Enter your first name: \")\n",
        "last_name = input(\"Enter your last name: \")\n",
        "\n",
        "print(f\"Hello, {first_name} {last_name}! Welcome to Python programming.\")\n",
        "\n"
      ],
      "metadata": {
        "colab": {
          "base_uri": "https://localhost:8080/"
        },
        "id": "8pFI_Oy6ngI-",
        "outputId": "66f1edf1-677c-47eb-8d24-37460c617227"
      },
      "execution_count": null,
      "outputs": [
        {
          "output_type": "stream",
          "name": "stdout",
          "text": [
            "Enter your first name: Rohul\n",
            "Enter your last name: Amin\n",
            "Hello, Rohul Amin! Welcome to Python programming.\n"
          ]
        }
      ]
    },
    {
      "cell_type": "markdown",
      "source": [
        "6. List Comprehension: Write a program that generates a list of squares of even numbers from 1 to 20 using list comprehension.\n",
        "Print the resulting list."
      ],
      "metadata": {
        "id": "Raf0Lt-aop_p"
      }
    },
    {
      "cell_type": "code",
      "source": [
        "squares = [x**2 for x in range(1, 21) if x % 2 == 0]\n",
        "print(squares)\n"
      ],
      "metadata": {
        "id": "NnzMFAv9o03O"
      },
      "execution_count": null,
      "outputs": []
    }
  ]
}