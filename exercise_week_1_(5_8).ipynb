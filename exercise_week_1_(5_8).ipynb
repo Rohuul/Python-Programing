{
  "nbformat": 4,
  "nbformat_minor": 0,
  "metadata": {
    "colab": {
      "provenance": [],
      "authorship_tag": "ABX9TyMJqMGIGM2FOkwxrOHm9Yjw",
      "include_colab_link": true
    },
    "kernelspec": {
      "name": "python3",
      "display_name": "Python 3"
    },
    "language_info": {
      "name": "python"
    }
  },
  "cells": [
    {
      "cell_type": "markdown",
      "metadata": {
        "id": "view-in-github",
        "colab_type": "text"
      },
      "source": [
        "<a href=\"https://colab.research.google.com/github/Rohuul/Python-Programing/blob/main/exercise_week_1_(5_8).ipynb\" target=\"_parent\"><img src=\"https://colab.research.google.com/assets/colab-badge.svg\" alt=\"Open In Colab\"/></a>"
      ]
    },
    {
      "cell_type": "markdown",
      "source": [
        "List Indexing: • Write a program that creates a list of five numbers and prints the second and fourth numbers in the list using indexing. [Hint: Google it and learn how to do get value from a list.]"
      ],
      "metadata": {
        "id": "gqMBQ25dsD_G"
      }
    },
    {
      "cell_type": "code",
      "execution_count": null,
      "metadata": {
        "colab": {
          "base_uri": "https://localhost:8080/"
        },
        "id": "xyP-pr_7rLOl",
        "outputId": "a13f7fb6-50fa-4939-eae7-78e2d55621d3"
      },
      "outputs": [
        {
          "output_type": "stream",
          "name": "stdout",
          "text": [
            "The Second number of list is :  45\n",
            "The fourth number of list is :  76\n"
          ]
        }
      ],
      "source": [
        "Lst = [23, 45, 4, 76, 20]\n",
        "second_number = Lst[1]\n",
        "fourth_number = Lst[3]\n",
        "\n",
        "print(\"The Second number of list is : \", second_number)\n",
        "print(\"The fourth number of list is : \", fourth_number)\n"
      ]
    },
    {
      "cell_type": "markdown",
      "source": [
        "Basic Data Type Conversion: • Write a program that takes a string representation of a number (e.g., “5”) from the user, converts it to an integer, and prints the square of that number. [Hint: use ** operator for calculating power of a value. For example 5 ** 2 = 25]\n"
      ],
      "metadata": {
        "id": "jJHi3cqxu7Sh"
      }
    },
    {
      "cell_type": "code",
      "source": [
        "str_num = str(input(\"Enter a number: \"))\n",
        "int_num = int(str_num)\n",
        "\n",
        "square = int_num **2\n",
        "print(\"The square of the number is: \", square)"
      ],
      "metadata": {
        "colab": {
          "base_uri": "https://localhost:8080/"
        },
        "id": "KAMMG23Su6Gv",
        "outputId": "cfa5c53c-629e-4cbe-9218-0a009b5a797a"
      },
      "execution_count": null,
      "outputs": [
        {
          "output_type": "stream",
          "name": "stdout",
          "text": [
            "Enter a number: 9\n",
            "The square of the number is:  81\n"
          ]
        }
      ]
    },
    {
      "cell_type": "markdown",
      "source": [
        "Formatting Output: • Create a program that takes a user’s name and age as input and prints a formatted message, such as: “Hello, [name]! You are [age] years old.”"
      ],
      "metadata": {
        "id": "DHvBGSLjwTSX"
      }
    },
    {
      "cell_type": "code",
      "source": [
        "name = input(\"Enter your Name: \")\n",
        "age = input(\"Enter your age: \")\n",
        "\n",
        "print(f\"Hello, {name}! You are {age} years old.\")"
      ],
      "metadata": {
        "colab": {
          "base_uri": "https://localhost:8080/"
        },
        "id": "0rUfBsP1wW2-",
        "outputId": "573010aa-624c-4b77-97ae-0c307c4eac6f"
      },
      "execution_count": null,
      "outputs": [
        {
          "output_type": "stream",
          "name": "stdout",
          "text": [
            "Enter your Name: Rohul\n",
            "Enter your age: 23\n",
            "Hello, Rohul! You are 23 years old.\n"
          ]
        }
      ]
    },
    {
      "cell_type": "markdown",
      "source": [
        "using Built-in Functions: Write a program that takes a list of five numbers and prints the minimum, maximum, and sum of the numbers using built-in functions.\n"
      ],
      "metadata": {
        "id": "pTBubJcfy0vk"
      }
    },
    {
      "cell_type": "code",
      "source": [
        "numbers = [15, 7, 24, 45, 50]\n",
        "\n",
        "min_num = min(numbers)\n",
        "max_num = max(numbers)\n",
        "sum = sum(numbers)\n",
        "\n",
        "print(\"The minimum number is:\", min_num)\n",
        "print(\"The maximum number is:\", max_num)\n",
        "print(\"The sum of the numbers is:\", sum)\n"
      ],
      "metadata": {
        "colab": {
          "base_uri": "https://localhost:8080/"
        },
        "id": "VFcpzCTCyuq4",
        "outputId": "0596a7e5-7cfd-4b1f-b867-b4a823ee952e"
      },
      "execution_count": null,
      "outputs": [
        {
          "output_type": "stream",
          "name": "stdout",
          "text": [
            "The minimum number is: 7\n",
            "The maximum number is: 50\n",
            "The sum of the numbers is: 141\n"
          ]
        }
      ]
    }
  ]
}