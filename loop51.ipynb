{
  "nbformat": 4,
  "nbformat_minor": 0,
  "metadata": {
    "colab": {
      "provenance": [],
      "authorship_tag": "ABX9TyMdn4RGMgPAz7a6xcIF/LEE",
      "include_colab_link": true
    },
    "kernelspec": {
      "name": "python3",
      "display_name": "Python 3"
    },
    "language_info": {
      "name": "python"
    }
  },
  "cells": [
    {
      "cell_type": "markdown",
      "metadata": {
        "id": "view-in-github",
        "colab_type": "text"
      },
      "source": [
        "<a href=\"https://colab.research.google.com/github/Rohuul/Python-Programing/blob/main/loop51.ipynb\" target=\"_parent\"><img src=\"https://colab.research.google.com/assets/colab-badge.svg\" alt=\"Open In Colab\"/></a>"
      ]
    },
    {
      "cell_type": "markdown",
      "source": [
        "Write a Python Program to Generate numbers from 100 to 1 only odd numbers"
      ],
      "metadata": {
        "id": "ylH4VRJ7Ufhm"
      }
    },
    {
      "cell_type": "code",
      "execution_count": null,
      "metadata": {
        "id": "DBbUaEq8869e",
        "colab": {
          "base_uri": "https://localhost:8080/"
        },
        "outputId": "887c381a-7f6b-4146-bb98-51fef2689743"
      },
      "outputs": [
        {
          "output_type": "stream",
          "name": "stdout",
          "text": [
            "99\n",
            "97\n",
            "95\n",
            "93\n",
            "91\n",
            "89\n",
            "87\n",
            "85\n",
            "83\n",
            "81\n",
            "79\n",
            "77\n",
            "75\n",
            "73\n",
            "71\n",
            "69\n",
            "67\n",
            "65\n",
            "63\n",
            "61\n",
            "59\n",
            "57\n",
            "55\n",
            "53\n",
            "51\n",
            "49\n",
            "47\n",
            "45\n",
            "43\n",
            "41\n",
            "39\n",
            "37\n",
            "35\n",
            "33\n",
            "31\n",
            "29\n",
            "27\n",
            "25\n",
            "23\n",
            "21\n",
            "19\n",
            "17\n",
            "15\n",
            "13\n",
            "11\n",
            "9\n",
            "7\n",
            "5\n",
            "3\n"
          ]
        }
      ],
      "source": [
        "for i in range(100,1,-1):\n",
        "  if i%2!=0:\n",
        "    print(i)"
      ]
    },
    {
      "cell_type": "markdown",
      "source": [
        "Write a Python Program to Generate numbers from 1 to 100 only even numbers"
      ],
      "metadata": {
        "id": "uOyFCFd6Wtge"
      }
    },
    {
      "cell_type": "code",
      "source": [
        "for i in range(1,100):\n",
        "  if i%2==0:\n",
        "    print(i)"
      ],
      "metadata": {
        "colab": {
          "base_uri": "https://localhost:8080/"
        },
        "id": "xHM7N1NPWu0c",
        "outputId": "6086db71-f2b3-44c9-af13-9b02d2f37604"
      },
      "execution_count": null,
      "outputs": [
        {
          "output_type": "stream",
          "name": "stdout",
          "text": [
            "2\n",
            "4\n",
            "6\n",
            "8\n",
            "10\n",
            "12\n",
            "14\n",
            "16\n",
            "18\n",
            "20\n",
            "22\n",
            "24\n",
            "26\n",
            "28\n",
            "30\n",
            "32\n",
            "34\n",
            "36\n",
            "38\n",
            "40\n",
            "42\n",
            "44\n",
            "46\n",
            "48\n",
            "50\n",
            "52\n",
            "54\n",
            "56\n",
            "58\n",
            "60\n",
            "62\n",
            "64\n",
            "66\n",
            "68\n",
            "70\n",
            "72\n",
            "74\n",
            "76\n",
            "78\n",
            "80\n",
            "82\n",
            "84\n",
            "86\n",
            "88\n",
            "90\n",
            "92\n",
            "94\n",
            "96\n",
            "98\n"
          ]
        }
      ]
    },
    {
      "cell_type": "markdown",
      "source": [
        "Write a Python Program to Generate numbers from 10 to 50 and Add all the\n",
        "Generated Numbers"
      ],
      "metadata": {
        "id": "-m7PlqNQXSkM"
      }
    },
    {
      "cell_type": "code",
      "source": [
        "sum = 0\n",
        "for i in range(10,51):\n",
        "  print(i, end=\" \")\n",
        "  sum = sum + i\n",
        "print(\"Results: \",sum)"
      ],
      "metadata": {
        "colab": {
          "base_uri": "https://localhost:8080/"
        },
        "id": "Ww28_l0mXdvO",
        "outputId": "1b38b697-1fe8-4425-82fa-41331af75883"
      },
      "execution_count": null,
      "outputs": [
        {
          "output_type": "stream",
          "name": "stdout",
          "text": [
            "10 11 12 13 14 15 16 17 18 19 20 21 22 23 24 25 26 27 28 29 30 31 32 33 34 35 36 37 38 39 40 41 42 43 44 45 46 47 48 49 50 Results:  1230\n"
          ]
        }
      ]
    }
  ]
}