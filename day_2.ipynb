{
  "nbformat": 4,
  "nbformat_minor": 0,
  "metadata": {
    "colab": {
      "provenance": [],
      "authorship_tag": "ABX9TyOyU3ixN8Wd/xVF4t4B0kxu",
      "include_colab_link": true
    },
    "kernelspec": {
      "name": "python3",
      "display_name": "Python 3"
    },
    "language_info": {
      "name": "python"
    }
  },
  "cells": [
    {
      "cell_type": "markdown",
      "metadata": {
        "id": "view-in-github",
        "colab_type": "text"
      },
      "source": [
        "<a href=\"https://colab.research.google.com/github/Rohuul/Python-Programing/blob/main/day_2.ipynb\" target=\"_parent\"><img src=\"https://colab.research.google.com/assets/colab-badge.svg\" alt=\"Open In Colab\"/></a>"
      ]
    },
    {
      "cell_type": "code",
      "execution_count": null,
      "metadata": {
        "colab": {
          "base_uri": "https://localhost:8080/"
        },
        "id": "sMHakipNkTJl",
        "outputId": "5e8f41a8-75cd-4b59-efb5-5ca6bd4a235d"
      },
      "outputs": [
        {
          "output_type": "stream",
          "name": "stdout",
          "text": [
            "Shawon\n",
            "sadik\n"
          ]
        }
      ],
      "source": [
        "lis = [\"Rohul\", \"Rizvi\", \"Shawon\", \"Rifat\", \"sadik\"]\n",
        "\n",
        "print(lis[2])\n",
        "print(lis[4])"
      ]
    },
    {
      "cell_type": "code",
      "source": [
        "number = int(input(\"Enter a number: \"))\n",
        "square = number ** 2\n",
        "print(square)"
      ],
      "metadata": {
        "colab": {
          "base_uri": "https://localhost:8080/"
        },
        "id": "Qjm9RwprlIMF",
        "outputId": "90a9ad55-22d2-41c8-fe35-92db497f1397"
      },
      "execution_count": null,
      "outputs": [
        {
          "output_type": "stream",
          "name": "stdout",
          "text": [
            "Enter a number: 5\n",
            "25\n"
          ]
        }
      ]
    },
    {
      "cell_type": "code",
      "source": [
        "name = input(\"Enter the name: \")\n",
        "age = input(\"Enter the age: \")\n",
        "print(f\"Hello, {name}! You are {age} years old.\")"
      ],
      "metadata": {
        "colab": {
          "base_uri": "https://localhost:8080/"
        },
        "id": "lEjoAQhTlQIq",
        "outputId": "87046ac5-4440-40ca-eac0-3c05faa877a5"
      },
      "execution_count": null,
      "outputs": [
        {
          "output_type": "stream",
          "name": "stdout",
          "text": [
            "Enter the name: Rohul\n",
            "Enter the age: 24\n",
            "Hello, Rohul! You are 24 years old.\n"
          ]
        }
      ]
    }
  ]
}