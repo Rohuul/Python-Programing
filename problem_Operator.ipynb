{
  "nbformat": 4,
  "nbformat_minor": 0,
  "metadata": {
    "colab": {
      "provenance": [],
      "authorship_tag": "ABX9TyOoLoIO6YcAXjTKvowfaxMe",
      "include_colab_link": true
    },
    "kernelspec": {
      "name": "python3",
      "display_name": "Python 3"
    },
    "language_info": {
      "name": "python"
    }
  },
  "cells": [
    {
      "cell_type": "markdown",
      "metadata": {
        "id": "view-in-github",
        "colab_type": "text"
      },
      "source": [
        "<a href=\"https://colab.research.google.com/github/Rohuul/Python-Programing/blob/main/problem_Operator.ipynb\" target=\"_parent\"><img src=\"https://colab.research.google.com/assets/colab-badge.svg\" alt=\"Open In Colab\"/></a>"
      ]
    },
    {
      "cell_type": "code",
      "execution_count": null,
      "metadata": {
        "colab": {
          "base_uri": "https://localhost:8080/"
        },
        "id": "Cu5RAgeADrVF",
        "outputId": "9238288e-8f78-4f16-d946-8309456b68a3"
      },
      "outputs": [
        {
          "output_type": "stream",
          "name": "stdout",
          "text": [
            " Enter a value:5\n",
            "5 is Odd\n"
          ]
        }
      ],
      "source": [
        "a = int(input(\" Enter a value:\"))\n",
        "\n",
        "if a%2 == 0:\n",
        "  print (f\"{a} is Even\");\n",
        "else:\n",
        "  print (f\"{a} is Odd\");\n",
        "\n",
        "\n",
        "\n",
        "\n"
      ]
    },
    {
      "cell_type": "code",
      "source": [
        "import cmath"
      ],
      "metadata": {
        "id": "MlCaKEeeF3U2"
      },
      "execution_count": null,
      "outputs": []
    },
    {
      "cell_type": "code",
      "source": [
        "\n",
        "a = float(input(\"Enter the value of a:\"));\n",
        "b = float(input(\"Enter the value of b:\"));\n",
        "c = float(input(\"Enter the value of c:\"));\n",
        "\n",
        "\n",
        "x = (cmath.sqrt(pow(b,2)-(4*a*c))) / (2 * a);\n",
        "\n",
        "print(f\"The value of X is: {x}\");"
      ],
      "metadata": {
        "colab": {
          "base_uri": "https://localhost:8080/"
        },
        "id": "yFTWZsWWEe2r",
        "outputId": "852c7a35-2aec-4da0-81dd-7c90aa82e3ba"
      },
      "execution_count": null,
      "outputs": [
        {
          "output_type": "stream",
          "name": "stdout",
          "text": [
            "Enter the value of a:2\n",
            "Enter the value of b:7\n",
            "Enter the value of c:3\n",
            "The value of (1.25+0j)\n"
          ]
        }
      ]
    }
  ]
}